{
 "cells": [
  {
   "cell_type": "code",
   "execution_count": 7,
   "id": "f67a7546-2a94-4c24-ae01-5ec9d4b615b1",
   "metadata": {},
   "outputs": [
    {
     "name": "stdout",
     "output_type": "stream",
     "text": [
      "Functions at first value\n",
      "Original f - 1999822214640.54\n",
      "g - 2000000000000.4998\n",
      "approx f - 1999999999999.9998\n",
      "Functions at second value\n",
      "Original f - 2251799813685248.0\n",
      "g - 2000000000000000.0\n",
      "approx f - 1999999999999999.5\n",
      "Functions at third value\n",
      "Original f - inf\n",
      "g - 2.0000000000000003e+18\n",
      "approx f - 2.0000000000000003e+18\n"
     ]
    },
    {
     "name": "stderr",
     "output_type": "stream",
     "text": [
      "C:\\Users\\jobro\\AppData\\Local\\Temp\\ipykernel_12032\\1542533834.py:8: RuntimeWarning: divide by zero encountered in scalar divide\n",
      "  return 1 / (np.sqrt(x**3 + 1) -1)\n"
     ]
    }
   ],
   "source": [
    "## Question 1\n",
    "\n",
    "## output the three expressions at differet values\n",
    "\n",
    "import numpy as np\n",
    "\n",
    "## List the three functions\n",
    "\n",
    "def og_f(x):\n",
    "    return 1 / (np.sqrt(x**3 + 1) -1)\n",
    "\n",
    "def g(x):\n",
    "    return (np.sqrt(x**3 +1) +1) / x**3\n",
    "\n",
    "def approx_f(x):\n",
    "    return 2 / x**3\n",
    "\n",
    "x_val1 = 1e-4\n",
    "x_val2 = 1e-5\n",
    "x_val3 = 1e-6\n",
    "\n",
    "print(\"Functions at first value\")\n",
    "\n",
    "print (\"Original f -\", og_f(x_val1) )\n",
    "print (\"g -\", g(x_val1) )\n",
    "print (\"approx f -\", approx_f(x_val1) )\n",
    "\n",
    "\n",
    "print(\"Functions at second value\")\n",
    "\n",
    "print (\"Original f -\", og_f(x_val2) )\n",
    "print (\"g -\", g(x_val2) )\n",
    "print (\"approx f -\", approx_f(x_val2) )\n",
    "\n",
    "\n",
    "print(\"Functions at third value\")\n",
    "\n",
    "print (\"Original f -\", og_f(x_val3) )\n",
    "print (\"g -\", g(x_val3) )\n",
    "print (\"approx f -\", approx_f(x_val3) )\n",
    "\n",
    "### The Original f gets a divide by zero, as in the denominator 1e-6 ^(3/2) is very small, letting the 1-1 approx to 0\n",
    "### this does not happen for the approf f, as it just takes the denominator to be very small but not zero\n"
   ]
  },
  {
   "cell_type": "code",
   "execution_count": 27,
   "id": "86824247-c35f-46b0-940e-74ddba2cbfb9",
   "metadata": {},
   "outputs": [
    {
     "name": "stdout",
     "output_type": "stream",
     "text": [
      "one sided = 0.9789191335281477\n",
      "analytic value = 0.9510565162951535\n"
     ]
    }
   ],
   "source": [
    "## Question 2\n",
    "## 2nd Order one-sided derivative\n",
    "\n",
    "import numpy as np\n",
    "\n",
    "x = np.linspace(0, np.pi, 10, endpoint=False)\n",
    "f = np.sin(x)\n",
    "fprime = np.cos(x)\n",
    "\n",
    "def one_sided_deriv(x, f, idx):\n",
    "    \"\"\"return the one-sided derivative at x[idx]\"\"\"\n",
    "    dx = x[idx+1] - x[idx]\n",
    "    return (4*f[idx+1] - f[idx+2] - 3*f[idx]) / (2*dx)\n",
    "\n",
    "## We want it at x = 1\n",
    "ival = 1\n",
    "\n",
    "df = one_sided_deriv(x, f, ival)\n",
    "\n",
    "print(f\"one sided = {df}\")\n",
    "print(f\"analytic value = {np.cos(x[ival])}\")\n"
   ]
  },
  {
   "cell_type": "code",
   "execution_count": 31,
   "id": "caa371f8-dbc8-4f56-9f5b-5b1e06ef1217",
   "metadata": {},
   "outputs": [
    {
     "name": "stdout",
     "output_type": "stream",
     "text": [
      "       0.1 :       0.001584693406\n",
      "      0.05 :      0.0004235730413\n",
      "     0.025 :      0.0001092517052\n",
      "    0.0125 :      2.772834238e-05\n",
      "   0.00625 :      6.983731181e-06\n",
      "  0.003125 :      1.752370663e-06\n",
      " 0.0015625 :      4.388963206e-07\n",
      "0.00078125 :      1.098243687e-07\n",
      "0.000390625 :      2.746962346e-08\n",
      "0.000195313 :      6.869000035e-09\n",
      "9.76563e-05 :      1.717849418e-09\n",
      "4.88281e-05 :      4.309144153e-10\n",
      "2.44141e-05 :      1.125912696e-10\n",
      "1.2207e-05 :       3.98316935e-11\n"
     ]
    }
   ],
   "source": [
    "import numpy as np\n",
    "\n",
    "#################### Convergence Testing\n",
    "\n",
    "def f(x):\n",
    "    return np.sin(x)\n",
    "\n",
    "def fprime(x):\n",
    "    return np.cos(x)\n",
    "\n",
    "# One-sided approximation\n",
    "def sided_deriv(x0, h):\n",
    "    return (4*f(x0 + h) - f(x0 + 2*h) - 3*f(x0)) / (2 * h)\n",
    "\n",
    "# at x = 1\n",
    "x0 = 1.0\n",
    "h = 0.1\n",
    "\n",
    "\n",
    "\n",
    "\n",
    "errors = []\n",
    "h_values = []\n",
    "\n",
    "while h > 1.e-5:\n",
    "    approx_derivative = sided_deriv(x0, h)\n",
    "    exact_derivative = fprime(x0)\n",
    "    error = abs(approx_derivative - exact_derivative)\n",
    "    \n",
    "    print(f\"{h:10.6g} : {error:20.10g}\")\n",
    "    \n",
    "    errors.append(error)\n",
    "    h_values.append(h)\n",
    "\n",
    "    h /= 2  # Reduce step size\n"
   ]
  }
 ],
 "metadata": {
  "kernelspec": {
   "display_name": "Python 3 (ipykernel)",
   "language": "python",
   "name": "python3"
  },
  "language_info": {
   "codemirror_mode": {
    "name": "ipython",
    "version": 3
   },
   "file_extension": ".py",
   "mimetype": "text/x-python",
   "name": "python",
   "nbconvert_exporter": "python",
   "pygments_lexer": "ipython3",
   "version": "3.12.4"
  }
 },
 "nbformat": 4,
 "nbformat_minor": 5
}

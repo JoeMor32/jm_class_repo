{
 "cells": [
  {
   "cell_type": "code",
   "execution_count": 1,
   "id": "b3dbc258-348e-40c9-99f9-f47f1123f421",
   "metadata": {},
   "outputs": [
    {
     "name": "stdout",
     "output_type": "stream",
     "text": [
      "Computed rho: 9.883662e-04 g/cm^3\n",
      "Computed T: 9.979947e+05 K\n",
      "Check p: 2.300000e+10 erg/cm^3 (target: 2.300000e+10)\n",
      "Check e: 3.870000e+13 erg/g (target: 3.870000e+13)\n"
     ]
    }
   ],
   "source": [
    "import numpy as np\n",
    "\n",
    "# Constants\n",
    "k = 1.38e-16  # erg/K\n",
    "mu = 4  # Mean molecular weight\n",
    "m_u = 1.66e-24  # g\n",
    "a = 7.56e-15  # erg/cm^3/K^4\n",
    "\n",
    "#### Calculating Equations of State and Jacobian\n",
    "\n",
    "def eos_pressure(rho, T):\n",
    "    return (rho * k * T) / (mu * m_u) + (1 / 3) * a * T**4\n",
    "\n",
    "def eos_energy(rho, T):\n",
    "    return (3 / 2) * (k * T) / (mu * m_u) + (a * T**4) / rho\n",
    "\n",
    "def jacobian(rho, T):\n",
    "    dp_drho = k * T / (mu * m_u)\n",
    "    dp_dT = (rho * k) / (mu * m_u) + (4 / 3) * a * T**3\n",
    "    de_drho = -a * T**4 / rho**2\n",
    "    de_dT = (3 / 2) * k / (mu * m_u) + (4 * a * T**3) / rho\n",
    "    return np.array([[dp_drho, dp_dT], [de_drho, de_dT]])\n",
    "\n",
    "def find_rho_T(p_star, e_star, rho_0, T_0, tol=1e-6, max_iter=100):\n",
    "    rho, T = rho_0, T_0\n",
    "    for _ in range(max_iter):\n",
    "        p_0 = eos_pressure(rho, T)\n",
    "        e_0 = eos_energy(rho, T)\n",
    "        J = jacobian(rho, T)\n",
    "        psi = np.array([p_0 - p_star, e_0 - e_star])\n",
    "        \n",
    "        # Solve J * delta = -psi\n",
    "        delta = np.linalg.solve(J, -psi)\n",
    "        \n",
    "        # Update values\n",
    "        rho += delta[0]\n",
    "        T += delta[1]\n",
    "        \n",
    "        # Check convergence\n",
    "        if np.linalg.norm(delta) < tol:\n",
    "            break\n",
    "    return rho, T\n",
    "\n",
    "# Given values\n",
    "p_star = 2.3e10  # erg/cm^3\n",
    "e_star = 3.87e13  # erg/g\n",
    "rho_0 = 1.0  # Initial guess for density \n",
    "T_0 = 1.0e7  # Initial guess for temperature \n",
    "\n",
    "rho, T = find_rho_T(p_star, e_star, rho_0, T_0)\n",
    "\n",
    "# Verify\n",
    "p_check = eos_pressure(rho, T)\n",
    "e_check = eos_energy(rho, T)\n",
    "\n",
    "print(f\"Computed rho: {rho:.6e} g/cm^3\")\n",
    "print(f\"Computed T: {T:.6e} K\")\n",
    "print(f\"Check p: {p_check:.6e} erg/cm^3 (target: {p_star:.6e})\")\n",
    "print(f\"Check e: {e_check:.6e} erg/g (target: {e_star:.6e})\")\n"
   ]
  },
  {
   "cell_type": "code",
   "execution_count": null,
   "id": "1a42a891-8e4c-4768-82c8-3a9b89b9f05b",
   "metadata": {},
   "outputs": [],
   "source": []
  }
 ],
 "metadata": {
  "kernelspec": {
   "display_name": "Python 3 (ipykernel)",
   "language": "python",
   "name": "python3"
  },
  "language_info": {
   "codemirror_mode": {
    "name": "ipython",
    "version": 3
   },
   "file_extension": ".py",
   "mimetype": "text/x-python",
   "name": "python",
   "nbconvert_exporter": "python",
   "pygments_lexer": "ipython3",
   "version": "3.12.4"
  }
 },
 "nbformat": 4,
 "nbformat_minor": 5
}
